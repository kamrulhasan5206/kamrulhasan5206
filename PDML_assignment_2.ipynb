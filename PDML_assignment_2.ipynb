{
 "cells": [
  {
   "cell_type": "code",
   "execution_count": 12,
   "id": "64bc6722",
   "metadata": {},
   "outputs": [],
   "source": [
    "class vehicalManagement:\n",
    "    vehical_route = None\n",
    "    mileagePerklio = None\n",
    "    OliPricePerLiter = None\n",
    "    \n",
    "    def __init__(self, v_route, mileage, o_price):\n",
    "        self.vehical_route = v_route\n",
    "        self.mileagePerkilo = mileage\n",
    "        self.OilPricePerLiter = o_price\n",
    "    \n",
    "    def getRoutePrice(self):\n",
    "        routPrice = (self.vehical_route / self.mileagePerkilo) * self.OilPricePerLiter\n",
    "        return routPrice\n",
    "    def getInfo(self, v_name):\n",
    "        vehicals= {\"Tata\":10002001, \"Maroti\":10002002, \"Mahindra\":10002003, \"Minitatas\":10002004}\n",
    "        for key, value in vehicals.items():\n",
    "            if key == v_name:\n",
    "                cost = self.getRoutePrice()\n",
    "                return \"Vehical Name:\"+key+\"\\nVehical ID:\"+str(value)+\"\\nTotalCost:\"+str(cost)\n",
    "                break\n",
    "                    \n",
    "                \n",
    "        \n",
    "        \n",
    "        \n",
    "        \n",
    "        "
   ]
  },
  {
   "cell_type": "code",
   "execution_count": 13,
   "id": "25bd00cf",
   "metadata": {},
   "outputs": [
    {
     "name": "stdout",
     "output_type": "stream",
     "text": [
      "640.0\n"
     ]
    }
   ],
   "source": [
    "route_cost = vehicalManagement(40, 5, 80)\n",
    "print(route_cost.getRoutePrice())"
   ]
  },
  {
   "cell_type": "code",
   "execution_count": 14,
   "id": "b15b2519",
   "metadata": {},
   "outputs": [
    {
     "name": "stdout",
     "output_type": "stream",
     "text": [
      "Enter vehical name form following list {\"Tata\":10002001, \"Maroti\":10002002, \"Mahindra\":10002003, \"Minitatas\":10002004}:Tata\n",
      "Enter Total distance in km:50\n",
      "Enter oil price per liter:100\n",
      "Enter milage in litter per kilo:10\n",
      "Vehical Name:Tata\n",
      "Vehical ID:10002001\n",
      "TotalCost:500.0\n"
     ]
    }
   ],
   "source": [
    "v_name = input('''Enter vehical name form following list {\"Tata\":10002001, \"Maroti\":10002002, \"Mahindra\":10002003, \"Minitatas\":10002004}:''')\n",
    "Distance = int(input(\"Enter Total distance in km:\"))\n",
    "oilPrice = int(input(\"Enter oil price per liter:\"))\n",
    "mileage = int(input(\"Enter milage in litter per kilo:\"))\n",
    "\n",
    "VMM = vehicalManagement(Distance, mileage, oilPrice)\n",
    "print(VMM.getInfo(v_name))\n"
   ]
  },
  {
   "cell_type": "code",
   "execution_count": null,
   "id": "ae568c8f",
   "metadata": {},
   "outputs": [],
   "source": []
  }
 ],
 "metadata": {
  "kernelspec": {
   "display_name": "Python 3",
   "language": "python",
   "name": "python3"
  },
  "language_info": {
   "codemirror_mode": {
    "name": "ipython",
    "version": 3
   },
   "file_extension": ".py",
   "mimetype": "text/x-python",
   "name": "python",
   "nbconvert_exporter": "python",
   "pygments_lexer": "ipython3",
   "version": "3.8.8"
  }
 },
 "nbformat": 4,
 "nbformat_minor": 5
}
