{
 "cells": [
  {
   "cell_type": "code",
   "execution_count": null,
   "id": "7ea00907",
   "metadata": {},
   "outputs": [],
   "source": []
  },
  {
   "cell_type": "code",
   "execution_count": 2,
   "id": "cedbb81f",
   "metadata": {},
   "outputs": [],
   "source": [
    "class vehical:\n",
    "    vehical_name = \"\"\n",
    "    vehical_id = \"\"\n",
    "    vehical_size = \"\"\n",
    "    vehical_milage = \"\"\n",
    "    \n",
    "    def __init__(self, v_name, v_id, v_size, v_milage):\n",
    "        self.vehical_name = v_name\n",
    "        self.vehical_id = v_id\n",
    "        self.vehical_size = v_size\n",
    "        self.vehical_milage = v_milage\n",
    "    def __str__(self):\n",
    "        return \"Name:\"+self.vehical_name+\"\\nVehicalID:\"+self.vehical_id+\"\\nVhicalSize:\"+self.vehical_size+\"\\nVehicalMilage:\"+self.vehical_milage\n",
    "    "
   ]
  },
  {
   "cell_type": "code",
   "execution_count": 4,
   "id": "a9c53032",
   "metadata": {},
   "outputs": [
    {
     "name": "stdout",
     "output_type": "stream",
     "text": [
      "Name:Volvo\n",
      "VehicalID:000345563\n",
      "VhicalSize:14ft\n",
      "VehicalMilage:40kl/h\n"
     ]
    }
   ],
   "source": [
    "vehical_info = vehical(\"Volvo\", \"000345563\", \"14ft\", \"40kl/h\")\n",
    "print(vehical_info)"
   ]
  },
  {
   "cell_type": "code",
   "execution_count": 9,
   "id": "ec073a2a",
   "metadata": {},
   "outputs": [],
   "source": [
    "class calculation:\n",
    "    def Addition(*num):\n",
    "        N_sum = 0\n",
    "        for n in num:\n",
    "            N_sum += n\n",
    "        return N_sum\n",
    "    def subtraction(num1, num2):\n",
    "        subs = num1 - num2\n",
    "        return subs\n",
    "    def multiplication(num1, num2):\n",
    "        product = num1 * num2\n",
    "        return product"
   ]
  },
  {
   "cell_type": "code",
   "execution_count": 10,
   "id": "ddfac513",
   "metadata": {},
   "outputs": [
    {
     "name": "stdout",
     "output_type": "stream",
     "text": [
      "31\n"
     ]
    }
   ],
   "source": [
    "sumation = calculation.Addition(1, 2, 4, 5, 10, 9)\n",
    "print(sumation)"
   ]
  },
  {
   "cell_type": "code",
   "execution_count": 12,
   "id": "ae37f0df",
   "metadata": {},
   "outputs": [
    {
     "name": "stdout",
     "output_type": "stream",
     "text": [
      "13329298234\n"
     ]
    }
   ],
   "source": [
    "subs = calculation.subtraction(13337676573, 8378339)\n",
    "print(subs)"
   ]
  },
  {
   "cell_type": "code",
   "execution_count": 16,
   "id": "23e7fb4d",
   "metadata": {},
   "outputs": [
    {
     "name": "stdout",
     "output_type": "stream",
     "text": [
      "1584\n"
     ]
    }
   ],
   "source": [
    "product = calculation.multiplication(36, 44)\n",
    "print(product)"
   ]
  },
  {
   "cell_type": "code",
   "execution_count": null,
   "id": "17322419",
   "metadata": {},
   "outputs": [],
   "source": []
  }
 ],
 "metadata": {
  "kernelspec": {
   "display_name": "Python 3 (ipykernel)",
   "language": "python",
   "name": "python3"
  },
  "language_info": {
   "codemirror_mode": {
    "name": "ipython",
    "version": 3
   },
   "file_extension": ".py",
   "mimetype": "text/x-python",
   "name": "python",
   "nbconvert_exporter": "python",
   "pygments_lexer": "ipython3",
   "version": "3.9.7"
  }
 },
 "nbformat": 4,
 "nbformat_minor": 5
}
